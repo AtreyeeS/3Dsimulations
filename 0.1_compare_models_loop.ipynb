{
 "cells": [
  {
   "cell_type": "code",
   "execution_count": 9,
   "id": "ed40554b-a4e1-441a-8ff8-1f7dfcfe05c2",
   "metadata": {},
   "outputs": [],
   "source": [
    "import numpy as np\n",
    "import matplotlib.pyplot as plt\n",
    "import astropy.units as u\n",
    "from astropy.coordinates import SkyCoord\n",
    "from gammapy.irf import load_cta_irfs\n",
    "from gammapy.maps import WcsGeom, MapAxis\n",
    "from gammapy.modeling.models import (\n",
    "    PowerLawSpectralModel,\n",
    "    GaussianSpatialModel,\n",
    "    DiskSpatialModel,\n",
    "    SkyModel,\n",
    "    Models,\n",
    "    FoVBackgroundModel,\n",
    ")\n",
    "from gammapy.makers import MapDatasetMaker, SafeMaskMaker\n",
    "from gammapy.modeling import Fit\n",
    "from gammapy.data import Observation, DataStore\n",
    "from gammapy.datasets import MapDataset, Datasets\n",
    "from gammapy.estimators import ExcessMapEstimator, FluxPointsEstimator"
   ]
  },
  {
   "cell_type": "code",
   "execution_count": 2,
   "id": "3971b126-e462-49ec-982b-e2386df59043",
   "metadata": {},
   "outputs": [
    {
     "name": "stderr",
     "output_type": "stream",
     "text": [
      "No HDU found matching: OBS_ID = 26850, HDU_TYPE = rad_max, HDU_CLASS = None\n"
     ]
    }
   ],
   "source": [
    "# Loading IRFs\n",
    "datastore = DataStore.from_dir(\"$GAMMAPY_DATA/hess-dl3-dr1\")\n",
    "obs=datastore.obs(26850)\n",
    "irfs = {\"aeff\": obs.aeff,\n",
    "       \"psf\": obs.psf,\n",
    "       \"edisp\": obs.edisp,\n",
    "       \"bkg\": obs.bkg}"
   ]
  },
  {
   "cell_type": "code",
   "execution_count": 3,
   "id": "ed912272-7863-4d5d-b240-f64a503f0a31",
   "metadata": {},
   "outputs": [],
   "source": [
    "# Define the observation parameters (typically the observation duration and the pointing position):\n",
    "livetime = 100.0 * u.hr\n",
    "pointing = SkyCoord(0, 0, unit=\"deg\", frame=\"galactic\")\n",
    "\n",
    "# Define map geometry for binned simulation\n",
    "energy_reco = MapAxis.from_energy_bounds(energy_min=500*u.GeV, energy_max=10*u.TeV,\n",
    "                                        nbin=6, per_decade=True, name=\"energy\")\n",
    "\n",
    "geom = WcsGeom.create(\n",
    "    skydir=(0, 0),\n",
    "    binsz=0.02,\n",
    "    width=(4, 4),\n",
    "    frame=\"galactic\",\n",
    "    axes=[energy_reco],\n",
    ")\n",
    "# It is usually useful to have a separate binning for the true energy axis\n",
    "energy_true = MapAxis.from_energy_bounds(energy_min=100*u.GeV, energy_max=20*u.TeV,\n",
    "                                        nbin=12, per_decade=True, name=\"energy_true\")\n",
    "\n",
    "\n"
   ]
  },
  {
   "cell_type": "code",
   "execution_count": 5,
   "id": "8da60005-6362-4277-9ea4-7e373f6cc48a",
   "metadata": {},
   "outputs": [],
   "source": [
    "# Define sky model to used simulate the data.\n",
    "# Here we use a Gaussian spatial model and a Power Law spectral model.\n",
    "spatial_model = GaussianSpatialModel(\n",
    "    lon_0=\"0.2 deg\", lat_0=\"0.1 deg\", sigma=\"0.4 deg\", frame=\"galactic\"\n",
    ")\n",
    "spectral_model = PowerLawSpectralModel(\n",
    "    index=3, amplitude=\"1e-12 cm-2 s-1 TeV-1\", reference=\"1 TeV\"\n",
    ")\n",
    "model_simu = SkyModel(\n",
    "    spatial_model=spatial_model,\n",
    "    spectral_model=spectral_model,\n",
    "    name=\"model-simu\",\n",
    ")\n",
    "\n",
    "bkg_model = FoVBackgroundModel(dataset_name=\"dataset-simu\")\n",
    "bkg_model.parameters[\"norm\"].value=0.99\n",
    "\n",
    "models = Models([model_simu, bkg_model])"
   ]
  },
  {
   "cell_type": "code",
   "execution_count": 16,
   "id": "76a35d0a-1290-4958-a13c-e3511be769e2",
   "metadata": {},
   "outputs": [],
   "source": [
    "models_simulated = models.copy()"
   ]
  },
  {
   "cell_type": "code",
   "execution_count": 80,
   "id": "64374d7e-ff5b-4938-9b53-416d805cca9a",
   "metadata": {},
   "outputs": [],
   "source": [
    "def simulate(name=\"dataset-simu\"):\n",
    "    empty = MapDataset.create(\n",
    "        geom, name=name, energy_axis_true=energy_true\n",
    "    )\n",
    "    obs = Observation.create(pointing=pointing, livetime=livetime, irfs=irfs)\n",
    "    maker = MapDatasetMaker(selection=[\"exposure\", \"background\", \"psf\", \"edisp\"])\n",
    "\n",
    "    maker_safe_mask = SafeMaskMaker(methods=[\"offset-max\"], offset_max=2.0 * u.deg)\n",
    "\n",
    "    dataset = maker.run(empty, obs)\n",
    "    dataset = maker_safe_mask.run(dataset, obs)\n",
    "    dataset.models = models\n",
    "    dataset.fake()\n",
    "    return dataset\n"
   ]
  },
  {
   "cell_type": "code",
   "execution_count": 81,
   "id": "655b72d1-7966-4de7-9202-7891321f45dd",
   "metadata": {},
   "outputs": [],
   "source": [
    "datasets = []\n",
    "for i in range(20):\n",
    "    dataset = simulate(name=f\"dataset_{i}\")\n",
    "    datasets.append(dataset)"
   ]
  },
  {
   "cell_type": "code",
   "execution_count": 82,
   "id": "fdbf80c3-d22b-429c-b406-29c178c61f5c",
   "metadata": {},
   "outputs": [
    {
     "data": {
      "text/html": [
       "<div><i>Table length=20</i>\n",
       "<table id=\"table6111726560\" class=\"table-striped table-bordered table-condensed\">\n",
       "<thead><tr><th>name</th><th>counts</th><th>background</th><th>excess</th><th>sqrt_ts</th><th>npred</th><th>npred_background</th><th>npred_signal</th><th>exposure_min</th><th>exposure_max</th><th>livetime</th><th>ontime</th><th>counts_rate</th><th>background_rate</th><th>excess_rate</th><th>n_bins</th><th>n_fit_bins</th><th>stat_type</th><th>stat_sum</th></tr></thead>\n",
       "<thead><tr><th></th><th></th><th></th><th></th><th></th><th></th><th></th><th></th><th>m2 s</th><th>m2 s</th><th>s</th><th>s</th><th>1 / s</th><th>1 / s</th><th>1 / s</th><th></th><th></th><th></th><th></th></tr></thead>\n",
       "<thead><tr><th>str10</th><th>int64</th><th>float64</th><th>float64</th><th>float64</th><th>float64</th><th>float64</th><th>float64</th><th>float64</th><th>float64</th><th>float64</th><th>float64</th><th>float64</th><th>float64</th><th>float64</th><th>int64</th><th>int64</th><th>str4</th><th>float64</th></tr></thead>\n",
       "<tr><td>stacked</td><td>227108</td><td>226940.265625</td><td>167.734375</td><td>0.3520568590525765</td><td>226940.30122452974</td><td>226940.265625</td><td>nan</td><td>677391232.0</td><td>90755760128.0</td><td>360000.0</td><td>360000.0</td><td>0.6308555555555555</td><td>0.6303896267361111</td><td>0.00046592881944444443</td><td>320000</td><td>251424</td><td>cash</td><td>nan</td></tr>\n",
       "<tr><td>dataset_1</td><td>228057</td><td>226940.30122008003</td><td>1116.6987799199705</td><td>2.3422035815801503</td><td>228107.04952427663</td><td>226940.30122008003</td><td>1166.7483041966352</td><td>677391245.0318525</td><td>90755763507.02928</td><td>360000.0</td><td>360000.0</td><td>0.6334916666666667</td><td>0.6303897256113334</td><td>0.0031019410553332514</td><td>320000</td><td>251424</td><td>cash</td><td>311078.4180643058</td></tr>\n",
       "<tr><td>dataset_2</td><td>227267</td><td>226940.30122008003</td><td>326.69877991997055</td><td>0.6856264274716187</td><td>228107.04952427663</td><td>226940.30122008003</td><td>1166.7483041966352</td><td>677391245.0318525</td><td>90755763507.02928</td><td>360000.0</td><td>360000.0</td><td>0.6312972222222222</td><td>0.6303897256113334</td><td>0.000907496610888807</td><td>320000</td><td>251424</td><td>cash</td><td>311370.26469202474</td></tr>\n",
       "<tr><td>dataset_3</td><td>228595</td><td>226940.30122008003</td><td>1654.6987799199705</td><td>3.4692583831161774</td><td>228107.04952427663</td><td>226940.30122008003</td><td>1166.7483041966352</td><td>677391245.0318525</td><td>90755763507.02928</td><td>360000.0</td><td>360000.0</td><td>0.6349861111111111</td><td>0.6303897256113334</td><td>0.004596385499777696</td><td>320000</td><td>251424</td><td>cash</td><td>311303.16577117145</td></tr>\n",
       "<tr><td>dataset_4</td><td>227751</td><td>226940.30122008003</td><td>810.6987799199705</td><td>1.7007694318555264</td><td>228107.04952427663</td><td>226940.30122008003</td><td>1166.7483041966352</td><td>677391245.0318525</td><td>90755763507.02928</td><td>360000.0</td><td>360000.0</td><td>0.6326416666666667</td><td>0.6303897256113334</td><td>0.0022519410553332514</td><td>320000</td><td>251424</td><td>cash</td><td>312651.0252264235</td></tr>\n",
       "<tr><td>dataset_5</td><td>228090</td><td>226940.30122008003</td><td>1149.6987799199705</td><td>2.4113607036262836</td><td>228107.04952427663</td><td>226940.30122008003</td><td>1166.7483041966352</td><td>677391245.0318525</td><td>90755763507.02928</td><td>360000.0</td><td>360000.0</td><td>0.6335833333333334</td><td>0.6303897256113334</td><td>0.0031936077219999184</td><td>320000</td><td>251424</td><td>cash</td><td>311364.5382750818</td></tr>\n",
       "<tr><td>...</td><td>...</td><td>...</td><td>...</td><td>...</td><td>...</td><td>...</td><td>...</td><td>...</td><td>...</td><td>...</td><td>...</td><td>...</td><td>...</td><td>...</td><td>...</td><td>...</td><td>...</td><td>...</td></tr>\n",
       "<tr><td>dataset_14</td><td>228246</td><td>226940.30122008003</td><td>1305.6987799199705</td><td>2.7382401219760726</td><td>228107.04952427663</td><td>226940.30122008003</td><td>1166.7483041966352</td><td>677391245.0318525</td><td>90755763507.02928</td><td>360000.0</td><td>360000.0</td><td>0.6340166666666667</td><td>0.6303897256113334</td><td>0.0036269410553332517</td><td>320000</td><td>251424</td><td>cash</td><td>312349.6287460566</td></tr>\n",
       "<tr><td>dataset_15</td><td>227743</td><td>226940.30122008003</td><td>802.6987799199705</td><td>1.6839960581777482</td><td>228107.04952427663</td><td>226940.30122008003</td><td>1166.7483041966352</td><td>677391245.0318525</td><td>90755763507.02928</td><td>360000.0</td><td>360000.0</td><td>0.6326194444444444</td><td>0.6303897256113334</td><td>0.0022297188331110293</td><td>320000</td><td>251424</td><td>cash</td><td>312392.35522871016</td></tr>\n",
       "<tr><td>dataset_16</td><td>227954</td><td>226940.30122008003</td><td>1013.6987799199705</td><td>2.1263280690963304</td><td>228107.04952427663</td><td>226940.30122008003</td><td>1166.7483041966352</td><td>677391245.0318525</td><td>90755763507.02928</td><td>360000.0</td><td>360000.0</td><td>0.6332055555555556</td><td>0.6303897256113334</td><td>0.0028158299442221403</td><td>320000</td><td>251424</td><td>cash</td><td>314478.62973753316</td></tr>\n",
       "<tr><td>dataset_17</td><td>227919</td><td>226940.30122008003</td><td>978.6987799199705</td><td>2.052964908510756</td><td>228107.04952427663</td><td>226940.30122008003</td><td>1166.7483041966352</td><td>677391245.0318525</td><td>90755763507.02928</td><td>360000.0</td><td>360000.0</td><td>0.6331083333333334</td><td>0.6303897256113334</td><td>0.0027186077219999182</td><td>320000</td><td>251424</td><td>cash</td><td>312231.396655099</td></tr>\n",
       "<tr><td>dataset_18</td><td>228432</td><td>226940.30122008003</td><td>1491.6987799199705</td><td>3.1278836066477926</td><td>228107.04952427663</td><td>226940.30122008003</td><td>1166.7483041966352</td><td>677391245.0318525</td><td>90755763507.02928</td><td>360000.0</td><td>360000.0</td><td>0.6345333333333333</td><td>0.6303897256113334</td><td>0.004143607721999918</td><td>320000</td><td>251424</td><td>cash</td><td>311380.6746457482</td></tr>\n",
       "<tr><td>dataset_19</td><td>228287</td><td>226940.30122008003</td><td>1346.6987799199705</td><td>2.824138373105712</td><td>228107.04952427663</td><td>226940.30122008003</td><td>1166.7483041966352</td><td>677391245.0318525</td><td>90755763507.02928</td><td>360000.0</td><td>360000.0</td><td>0.6341305555555555</td><td>0.6303897256113334</td><td>0.0037408299442221403</td><td>320000</td><td>251424</td><td>cash</td><td>313033.57578043395</td></tr>\n",
       "</table></div>"
      ],
      "text/plain": [
       "<Table length=20>\n",
       "   name    counts     background     ... n_fit_bins stat_type      stat_sum     \n",
       "                                     ...                                        \n",
       "  str10    int64       float64       ...   int64       str4        float64      \n",
       "---------- ------ ------------------ ... ---------- --------- ------------------\n",
       "   stacked 227108      226940.265625 ...     251424      cash                nan\n",
       " dataset_1 228057 226940.30122008003 ...     251424      cash  311078.4180643058\n",
       " dataset_2 227267 226940.30122008003 ...     251424      cash 311370.26469202474\n",
       " dataset_3 228595 226940.30122008003 ...     251424      cash 311303.16577117145\n",
       " dataset_4 227751 226940.30122008003 ...     251424      cash  312651.0252264235\n",
       " dataset_5 228090 226940.30122008003 ...     251424      cash  311364.5382750818\n",
       "       ...    ...                ... ...        ...       ...                ...\n",
       "dataset_14 228246 226940.30122008003 ...     251424      cash  312349.6287460566\n",
       "dataset_15 227743 226940.30122008003 ...     251424      cash 312392.35522871016\n",
       "dataset_16 227954 226940.30122008003 ...     251424      cash 314478.62973753316\n",
       "dataset_17 227919 226940.30122008003 ...     251424      cash   312231.396655099\n",
       "dataset_18 228432 226940.30122008003 ...     251424      cash  311380.6746457482\n",
       "dataset_19 228287 226940.30122008003 ...     251424      cash 313033.57578043395"
      ]
     },
     "execution_count": 82,
     "metadata": {},
     "output_type": "execute_result"
    }
   ],
   "source": [
    "Datasets(datasets).info_table()"
   ]
  },
  {
   "cell_type": "markdown",
   "id": "23350d14-3b2c-47f0-b2e3-526dcaae6d42",
   "metadata": {},
   "source": [
    "## Fitting"
   ]
  },
  {
   "cell_type": "code",
   "execution_count": 83,
   "id": "dd52f5ce-991e-4344-8b33-45313d233662",
   "metadata": {},
   "outputs": [],
   "source": [
    "def fit_gauss(dataset):\n",
    "    bkg_model = FoVBackgroundModel(dataset_name=dataset.name)\n",
    "    dataset.models = bkg_model\n",
    "    bkg_model.parameters[\"tilt\"].frozen=False\n",
    "    fit = Fit(optimize_opts={\"print_level\": 0})\n",
    "    result = fit.run(datasets=[dataset])\n",
    "    L0 = dataset.stat_sum()\n",
    "    \n",
    "    spatial_gauss = GaussianSpatialModel(frame=\"galactic\")\n",
    "    spatial_gauss.lat_0.min = -2\n",
    "    spatial_gauss.lat_0.max = 2\n",
    "    spatial_gauss.lon_0.max = 2\n",
    "    spatial_gauss.lon_0.min = -2\n",
    "\n",
    "    pwl = PowerLawSpectralModel()\n",
    "    pwl.parameters[\"amplitude\"].value = 1e-12\n",
    "    model_gauss = SkyModel(spatial_model=spatial_gauss,\n",
    "                           spectral_model=pwl, name=\"gauss\")\n",
    "    models = [model_gauss, bkg_model]\n",
    "    dataset.models = models\n",
    "    fit = Fit(optimize_opts={\"print_level\": 0})\n",
    "    result = fit.run(datasets=[dataset])\n",
    "    L1 = dataset.stat_sum()\n",
    "    return L0-L1, result"
   ]
  },
  {
   "cell_type": "code",
   "execution_count": 84,
   "id": "1b87c6f4-b8f0-46a8-beaf-3ed0faa98a6d",
   "metadata": {},
   "outputs": [],
   "source": [
    "def fit_disk(dataset):\n",
    "    bkg_model = FoVBackgroundModel(dataset_name=dataset.name)\n",
    "    dataset.models = bkg_model\n",
    "    bkg_model.parameters[\"tilt\"].frozen=False\n",
    "    fit = Fit(optimize_opts={\"print_level\": 0})\n",
    "    result = fit.run(datasets=[dataset])\n",
    "    L0 = dataset.stat_sum()\n",
    "    \n",
    "    spatial_disk = DiskSpatialModel(frame=\"galactic\")\n",
    "    spatial_disk.lat_0.min = -2\n",
    "    spatial_disk.lat_0.max = 2\n",
    "    spatial_disk.lon_0.max = 2\n",
    "    spatial_disk.lon_0.min = -2\n",
    "    spatial_disk.parameters[\"r_0\"].value=0.8\n",
    "    \n",
    "    pwl2 = PowerLawSpectralModel()\n",
    "    pwl2.parameters[\"amplitude\"].value = 1e-12\n",
    "    model_disk = SkyModel(spatial_model=spatial_disk,\n",
    "                           spectral_model=pwl2, name=\"gauss\")\n",
    "    models = [model_disk, bkg_model]\n",
    "    dataset.models = models\n",
    "    fit = Fit(optimize_opts={\"print_level\": 0})\n",
    "    result = fit.run(datasets=[dataset])\n",
    "    L1 = dataset.stat_sum()\n",
    "    return L0-L1, result"
   ]
  },
  {
   "cell_type": "code",
   "execution_count": 85,
   "id": "8c2a96bc-2cb9-4607-bc59-f95412203b40",
   "metadata": {},
   "outputs": [],
   "source": [
    "from astropy.table import Table"
   ]
  },
  {
   "cell_type": "code",
   "execution_count": 86,
   "id": "eb3a0649-c238-4e44-90ca-3b20858e76dc",
   "metadata": {},
   "outputs": [
    {
     "name": "stdout",
     "output_type": "stream",
     "text": [
      "[0, 50.455287383287214, 2.8165482213370003, 0.25967092149166066, 1.8463580626051605e-12, 6.253110254891994e-13, 0.47118567956443635, 0.1123773952736626, 41.26165930344723, 2.8176694686985826, 0.2727169638156008, 1.3325543284518559e-12, 1.9251005001887756e-13, 0.7558200745450253, 0.007572912016049582]\n",
      "[1, 9.82975863077445, 3.0511398982174534, 0.9001675010191345, 9.457146757476956e-13, 5.124168527849853e-13, 0.5366193512768449, 0.12728992162928662, 14.105402956658509, 3.105030128751378, 0.995597079934754, 9.077662506870466e-13, 4.1110501388009936e-13, 0.8591322802395243, 0.04111594563822877]\n",
      "[2, 26.64678887539776, 3.6765290051845243, 0.5952779142626188, 1.0500016279926812e-12, 4.748567628321594e-13, 0.4797608170664014, 0.09313193536508069, 28.188054230471607, 3.81307062981603, 4.443334206238961, 7.672720291913438e-13, 1.9275168449103545e-12, 0.7417159155155817, 0.028412185326366135]\n",
      "[3, 18.85544411931187, 3.390177479453394, 3.9628478187531844, 1.2309832016848361e-12, 3.388029954517795e-12, 0.5571945727088425, 0.35750098238559036, 20.086708992661443, 3.040675980505241, 0.7401890427647548, 9.431357645274222e-13, 3.0641392699613474e-13, 0.7864368901477767, 0.02407785342183579]\n",
      "[4, 35.03215935261687, 3.662730449043271, 0.5712903429624584, 9.286418045743118e-13, 3.870391293254082e-13, 0.38727393590863, 0.0722089330414939, 32.34798190364381, 3.5654137850131162, 0.5194775152239951, 9.34363166513155e-13, 2.621897514388164e-13, 0.7455774898082876, 0.02257058405166737]\n",
      "[5, 13.524289727618452, 2.229699592675017, 0.4873976631895105, 3.204914220774762e-11, 9.751016205824014e-11, 0.963820145151885, 0.9295720753773351, 11.607063005445525, 2.8066789556858875, 0.7061702329055145, 6.85361356610491e-13, 2.2808430877137034e-13, 0.7206283936000626, 0.020250948532684783]\n",
      "[6, 14.650460798293352, 3.5541547679882477, 5.46985402478093, 1.1266475443778796e-12, 2.695225813044496e-12, 0.5957711563968007, 0.16455986415810736, 15.704543832223862, 2.306422231720164, 0.32469482998108207, 9.45937223169947e-13, 2.4847130725004657e-13, 0.8576224634577749, 0.02110123434524515]\n",
      "[7, 24.659016863792203, 3.457244800969593, 0.6570890374313801, 1.246654412403073e-12, 6.236825579995172e-13, 0.5210800945999637, 0.11852830491549937, 30.851232832763344, 3.4600917367367168, 0.9270830561480943, 1.3677543699312256e-12, 6.531023334751222e-13, 0.970608237913507, 0.017377831851729267]\n",
      "[8, 26.79241261439165, 2.6252444699943687, 0.3481021853590327, 1.2702943889916639e-12, 3.9761022958655795e-13, 0.447236537697783, 0.08867427904776758, 25.059144485509023, 2.443353094752271, 0.29237817858699455, 1.165020116994112e-12, 2.376445890479885e-13, 0.8317104465439631, 0.010828623600422867]\n",
      "[9, 12.474603948707227, 2.8146309552115283, 0.5599198591577217, 6.996276844434254e-13, 3.418132333351233e-13, 0.37978625381339387, 0.13207199653189464, 11.032257893530186, 2.9322235558733816, 0.7537957840842109, 7.091471369612927e-13, 2.2167639686408094e-13, 0.7848306017134058, 0.19291501217233317]\n",
      "[10, 23.68471684033284, 3.8137183077866834, 0.6735473063203751, 1.0549627891252584e-12, 5.156346405094013e-13, 0.5256100141218565, 0.10060680451381573, 24.01616907166317, 3.6859702345576406, 0.5961419117017833, 6.964234786452234e-13, 2.069875139078082e-13, 0.6938194477839446, 0.045229218835665774]\n",
      "[11, 17.36493597034132, 3.2855046315682177, 0.45667583520401633, 8.780119918269201e-13, 2.0361029827839026e-13, 0.4328979559828064, 0.08545272547266367, 15.718930446426384, 2.7870862859043353, 0.3617804355516086, 8.131498554206878e-13, 2.127804245846879e-13, 0.7446358630532524, 0.02953236866608177]\n",
      "[12, 41.747591941209976, 2.6937641594634103, 0.3297598434985597, 2.875458284024997e-12, 9.697556953700842e-13, 0.670555604869014, 0.12147115142930401, 40.49854050099384, 2.465483149946116, 0.22047822995683705, 1.4521004872126643e-12, 1.9885399435021282e-13, 0.8142404500767477, 0.00630282402959928]\n",
      "[13, 33.87469576479634, 3.3993260636801996, 0.5937196295586363, 9.29069903367962e-13, 3.630611324537729e-13, 0.36077108185658147, 0.07042409402720415, 34.28746334702009, 3.200270301494635, 0.31336795282588276, 8.303846733024333e-13, 1.7096053248757593e-13, 0.5836317244003741, 0.012010542217338284]\n",
      "[14, 24.837366235791706, 2.7547358959190853, 0.3480086021031847, 1.2969600791926685e-12, 4.727366415133313e-13, 0.45691395664871826, 0.11353959783865196, 20.850927937601227, 3.130638011333316, 0.39638355539140885, 7.715300507778335e-13, 1.7059326072309475e-13, 0.6658791306287859, 0.012138413637689463]\n"
     ]
    },
    {
     "name": "stderr",
     "output_type": "stream",
     "text": [
      "/Users/ASinha/opt/anaconda3/envs/gammapy-0.19/lib/python3.9/site-packages/astropy/units/quantity.py:486: RuntimeWarning: divide by zero encountered in true_divide\n",
      "  result = super().__array_ufunc__(function, method, *arrays, **kwargs)\n",
      "/Users/ASinha/opt/anaconda3/envs/gammapy-0.19/lib/python3.9/site-packages/gammapy/modeling/models/spatial.py:545: RuntimeWarning: invalid value encountered in multiply\n",
      "  return u.Quantity(norm * np.exp(exponent).value, \"sr-1\", copy=False)\n",
      "/Users/ASinha/opt/anaconda3/envs/gammapy-0.19/lib/python3.9/site-packages/astropy/units/quantity.py:486: RuntimeWarning: divide by zero encountered in true_divide\n",
      "  result = super().__array_ufunc__(function, method, *arrays, **kwargs)\n",
      "/Users/ASinha/opt/anaconda3/envs/gammapy-0.19/lib/python3.9/site-packages/gammapy/modeling/models/spatial.py:545: RuntimeWarning: invalid value encountered in multiply\n",
      "  return u.Quantity(norm * np.exp(exponent).value, \"sr-1\", copy=False)\n"
     ]
    },
    {
     "ename": "ValueError",
     "evalue": "Can only stack equivalent maps or cutout of the same map.",
     "output_type": "error",
     "traceback": [
      "\u001b[0;31m---------------------------------------------------------------------------\u001b[0m",
      "\u001b[0;31mValueError\u001b[0m                                Traceback (most recent call last)",
      "\u001b[0;32m/var/folders/v4/62d6cvbj72qbyw23mq2pwxl00000gn/T/ipykernel_97841/940696147.py\u001b[0m in \u001b[0;36m<module>\u001b[0;34m\u001b[0m\n\u001b[1;32m      6\u001b[0m              )\n\u001b[1;32m      7\u001b[0m \u001b[0;32mfor\u001b[0m \u001b[0mi\u001b[0m\u001b[0;34m,\u001b[0m \u001b[0mds\u001b[0m \u001b[0;32min\u001b[0m \u001b[0menumerate\u001b[0m\u001b[0;34m(\u001b[0m\u001b[0mdatasets\u001b[0m\u001b[0;34m)\u001b[0m\u001b[0;34m:\u001b[0m\u001b[0;34m\u001b[0m\u001b[0;34m\u001b[0m\u001b[0m\n\u001b[0;32m----> 8\u001b[0;31m     \u001b[0mTS_Gauss\u001b[0m\u001b[0;34m,\u001b[0m \u001b[0mres_gauss\u001b[0m \u001b[0;34m=\u001b[0m \u001b[0mfit_gauss\u001b[0m\u001b[0;34m(\u001b[0m\u001b[0mds\u001b[0m\u001b[0;34m)\u001b[0m\u001b[0;34m\u001b[0m\u001b[0;34m\u001b[0m\u001b[0m\n\u001b[0m\u001b[1;32m      9\u001b[0m     \u001b[0mTS_Disk\u001b[0m\u001b[0;34m,\u001b[0m \u001b[0mres_disk\u001b[0m \u001b[0;34m=\u001b[0m \u001b[0mfit_disk\u001b[0m\u001b[0;34m(\u001b[0m\u001b[0mds\u001b[0m\u001b[0;34m)\u001b[0m\u001b[0;34m\u001b[0m\u001b[0;34m\u001b[0m\u001b[0m\n\u001b[1;32m     10\u001b[0m     row = [i, \n",
      "\u001b[0;32m/var/folders/v4/62d6cvbj72qbyw23mq2pwxl00000gn/T/ipykernel_97841/708030827.py\u001b[0m in \u001b[0;36mfit_gauss\u001b[0;34m(dataset)\u001b[0m\n\u001b[1;32m     20\u001b[0m     \u001b[0mdataset\u001b[0m\u001b[0;34m.\u001b[0m\u001b[0mmodels\u001b[0m \u001b[0;34m=\u001b[0m \u001b[0mmodels\u001b[0m\u001b[0;34m\u001b[0m\u001b[0;34m\u001b[0m\u001b[0m\n\u001b[1;32m     21\u001b[0m     \u001b[0mfit\u001b[0m \u001b[0;34m=\u001b[0m \u001b[0mFit\u001b[0m\u001b[0;34m(\u001b[0m\u001b[0moptimize_opts\u001b[0m\u001b[0;34m=\u001b[0m\u001b[0;34m{\u001b[0m\u001b[0;34m\"print_level\"\u001b[0m\u001b[0;34m:\u001b[0m \u001b[0;36m0\u001b[0m\u001b[0;34m}\u001b[0m\u001b[0;34m)\u001b[0m\u001b[0;34m\u001b[0m\u001b[0;34m\u001b[0m\u001b[0m\n\u001b[0;32m---> 22\u001b[0;31m     \u001b[0mresult\u001b[0m \u001b[0;34m=\u001b[0m \u001b[0mfit\u001b[0m\u001b[0;34m.\u001b[0m\u001b[0mrun\u001b[0m\u001b[0;34m(\u001b[0m\u001b[0mdatasets\u001b[0m\u001b[0;34m=\u001b[0m\u001b[0;34m[\u001b[0m\u001b[0mdataset\u001b[0m\u001b[0;34m]\u001b[0m\u001b[0;34m)\u001b[0m\u001b[0;34m\u001b[0m\u001b[0;34m\u001b[0m\u001b[0m\n\u001b[0m\u001b[1;32m     23\u001b[0m     \u001b[0mL1\u001b[0m \u001b[0;34m=\u001b[0m \u001b[0mdataset\u001b[0m\u001b[0;34m.\u001b[0m\u001b[0mstat_sum\u001b[0m\u001b[0;34m(\u001b[0m\u001b[0;34m)\u001b[0m\u001b[0;34m\u001b[0m\u001b[0;34m\u001b[0m\u001b[0m\n\u001b[1;32m     24\u001b[0m     \u001b[0;32mreturn\u001b[0m \u001b[0mL0\u001b[0m\u001b[0;34m-\u001b[0m\u001b[0mL1\u001b[0m\u001b[0;34m,\u001b[0m \u001b[0mresult\u001b[0m\u001b[0;34m\u001b[0m\u001b[0;34m\u001b[0m\u001b[0m\n",
      "\u001b[0;32m~/opt/anaconda3/envs/gammapy-0.19/lib/python3.9/site-packages/gammapy/modeling/fit.py\u001b[0m in \u001b[0;36mrun\u001b[0;34m(self, datasets)\u001b[0m\n\u001b[1;32m    156\u001b[0m             \u001b[0mFit\u001b[0m \u001b[0mresult\u001b[0m\u001b[0;34m\u001b[0m\u001b[0;34m\u001b[0m\u001b[0m\n\u001b[1;32m    157\u001b[0m         \"\"\"\n\u001b[0;32m--> 158\u001b[0;31m         \u001b[0moptimize_result\u001b[0m \u001b[0;34m=\u001b[0m \u001b[0mself\u001b[0m\u001b[0;34m.\u001b[0m\u001b[0moptimize\u001b[0m\u001b[0;34m(\u001b[0m\u001b[0mdatasets\u001b[0m\u001b[0;34m=\u001b[0m\u001b[0mdatasets\u001b[0m\u001b[0;34m)\u001b[0m\u001b[0;34m\u001b[0m\u001b[0;34m\u001b[0m\u001b[0m\n\u001b[0m\u001b[1;32m    159\u001b[0m \u001b[0;34m\u001b[0m\u001b[0m\n\u001b[1;32m    160\u001b[0m         \u001b[0;32mif\u001b[0m \u001b[0mself\u001b[0m\u001b[0;34m.\u001b[0m\u001b[0mbackend\u001b[0m \u001b[0;32mnot\u001b[0m \u001b[0;32min\u001b[0m \u001b[0mregistry\u001b[0m\u001b[0;34m.\u001b[0m\u001b[0mregister\u001b[0m\u001b[0;34m[\u001b[0m\u001b[0;34m\"covariance\"\u001b[0m\u001b[0;34m]\u001b[0m\u001b[0;34m:\u001b[0m\u001b[0;34m\u001b[0m\u001b[0;34m\u001b[0m\u001b[0m\n",
      "\u001b[0;32m~/opt/anaconda3/envs/gammapy-0.19/lib/python3.9/site-packages/gammapy/modeling/fit.py\u001b[0m in \u001b[0;36moptimize\u001b[0;34m(self, datasets)\u001b[0m\n\u001b[1;32m    194\u001b[0m         \u001b[0;31m# probably should pass a fit statistic, which has a model, which has parameters\u001b[0m\u001b[0;34m\u001b[0m\u001b[0;34m\u001b[0m\u001b[0m\n\u001b[1;32m    195\u001b[0m         \u001b[0;31m# and return something simpler, not a tuple of three things\u001b[0m\u001b[0;34m\u001b[0m\u001b[0;34m\u001b[0m\u001b[0m\n\u001b[0;32m--> 196\u001b[0;31m         factors, info, optimizer = compute(\n\u001b[0m\u001b[1;32m    197\u001b[0m             \u001b[0mparameters\u001b[0m\u001b[0;34m=\u001b[0m\u001b[0mparameters\u001b[0m\u001b[0;34m,\u001b[0m\u001b[0;34m\u001b[0m\u001b[0;34m\u001b[0m\u001b[0m\n\u001b[1;32m    198\u001b[0m             \u001b[0mfunction\u001b[0m\u001b[0;34m=\u001b[0m\u001b[0mdatasets\u001b[0m\u001b[0;34m.\u001b[0m\u001b[0mstat_sum\u001b[0m\u001b[0;34m,\u001b[0m\u001b[0;34m\u001b[0m\u001b[0;34m\u001b[0m\u001b[0m\n",
      "\u001b[0;32m~/opt/anaconda3/envs/gammapy-0.19/lib/python3.9/site-packages/gammapy/modeling/iminuit.py\u001b[0m in \u001b[0;36moptimize_iminuit\u001b[0;34m(parameters, function, store_trace, **kwargs)\u001b[0m\n\u001b[1;32m     78\u001b[0m     )\n\u001b[1;32m     79\u001b[0m \u001b[0;34m\u001b[0m\u001b[0m\n\u001b[0;32m---> 80\u001b[0;31m     \u001b[0mminuit\u001b[0m\u001b[0;34m.\u001b[0m\u001b[0mmigrad\u001b[0m\u001b[0;34m(\u001b[0m\u001b[0;34m**\u001b[0m\u001b[0mmigrad_opts\u001b[0m\u001b[0;34m)\u001b[0m\u001b[0;34m\u001b[0m\u001b[0;34m\u001b[0m\u001b[0m\n\u001b[0m\u001b[1;32m     81\u001b[0m \u001b[0;34m\u001b[0m\u001b[0m\n\u001b[1;32m     82\u001b[0m     \u001b[0mfactors\u001b[0m \u001b[0;34m=\u001b[0m \u001b[0mminuit\u001b[0m\u001b[0;34m.\u001b[0m\u001b[0mvalues\u001b[0m\u001b[0;34m\u001b[0m\u001b[0;34m\u001b[0m\u001b[0m\n",
      "\u001b[0;32m~/opt/anaconda3/envs/gammapy-0.19/lib/python3.9/site-packages/iminuit/minuit.py\u001b[0m in \u001b[0;36mmigrad\u001b[0;34m(self, ncall, iterate)\u001b[0m\n\u001b[1;32m    681\u001b[0m             \u001b[0;32mif\u001b[0m \u001b[0mself\u001b[0m\u001b[0;34m.\u001b[0m\u001b[0m_precision\u001b[0m \u001b[0;32mis\u001b[0m \u001b[0;32mnot\u001b[0m \u001b[0;32mNone\u001b[0m\u001b[0;34m:\u001b[0m\u001b[0;34m\u001b[0m\u001b[0;34m\u001b[0m\u001b[0m\n\u001b[1;32m    682\u001b[0m                 \u001b[0mmigrad\u001b[0m\u001b[0;34m.\u001b[0m\u001b[0mprecision\u001b[0m \u001b[0;34m=\u001b[0m \u001b[0mself\u001b[0m\u001b[0;34m.\u001b[0m\u001b[0m_precision\u001b[0m\u001b[0;34m\u001b[0m\u001b[0;34m\u001b[0m\u001b[0m\n\u001b[0;32m--> 683\u001b[0;31m             \u001b[0mfm\u001b[0m \u001b[0;34m=\u001b[0m \u001b[0mmigrad\u001b[0m\u001b[0;34m(\u001b[0m\u001b[0mncall\u001b[0m\u001b[0;34m,\u001b[0m \u001b[0mself\u001b[0m\u001b[0;34m.\u001b[0m\u001b[0m_tolerance\u001b[0m\u001b[0;34m)\u001b[0m\u001b[0;34m\u001b[0m\u001b[0;34m\u001b[0m\u001b[0m\n\u001b[0m\u001b[1;32m    684\u001b[0m             \u001b[0;32mif\u001b[0m \u001b[0mfm\u001b[0m\u001b[0;34m.\u001b[0m\u001b[0mis_valid\u001b[0m \u001b[0;32mor\u001b[0m \u001b[0mfm\u001b[0m\u001b[0;34m.\u001b[0m\u001b[0mhas_reached_call_limit\u001b[0m\u001b[0;34m:\u001b[0m\u001b[0;34m\u001b[0m\u001b[0;34m\u001b[0m\u001b[0m\n\u001b[1;32m    685\u001b[0m                 \u001b[0;32mbreak\u001b[0m\u001b[0;34m\u001b[0m\u001b[0;34m\u001b[0m\u001b[0m\n",
      "\u001b[0;32m~/opt/anaconda3/envs/gammapy-0.19/lib/python3.9/site-packages/gammapy/modeling/iminuit.py\u001b[0m in \u001b[0;36mfcn\u001b[0;34m(self, *factors)\u001b[0m\n\u001b[1;32m     22\u001b[0m         \u001b[0mself\u001b[0m\u001b[0;34m.\u001b[0m\u001b[0mparameters\u001b[0m\u001b[0;34m.\u001b[0m\u001b[0mset_parameter_factors\u001b[0m\u001b[0;34m(\u001b[0m\u001b[0mfactors\u001b[0m\u001b[0;34m)\u001b[0m\u001b[0;34m\u001b[0m\u001b[0;34m\u001b[0m\u001b[0m\n\u001b[1;32m     23\u001b[0m \u001b[0;34m\u001b[0m\u001b[0m\n\u001b[0;32m---> 24\u001b[0;31m         \u001b[0mtotal_stat\u001b[0m \u001b[0;34m=\u001b[0m \u001b[0mself\u001b[0m\u001b[0;34m.\u001b[0m\u001b[0mfunction\u001b[0m\u001b[0;34m(\u001b[0m\u001b[0;34m)\u001b[0m\u001b[0;34m\u001b[0m\u001b[0;34m\u001b[0m\u001b[0m\n\u001b[0m\u001b[1;32m     25\u001b[0m \u001b[0;34m\u001b[0m\u001b[0m\n\u001b[1;32m     26\u001b[0m         \u001b[0;32mif\u001b[0m \u001b[0mself\u001b[0m\u001b[0;34m.\u001b[0m\u001b[0mstore_trace\u001b[0m\u001b[0;34m:\u001b[0m\u001b[0;34m\u001b[0m\u001b[0;34m\u001b[0m\u001b[0m\n",
      "\u001b[0;32m~/opt/anaconda3/envs/gammapy-0.19/lib/python3.9/site-packages/gammapy/datasets/core.py\u001b[0m in \u001b[0;36mstat_sum\u001b[0;34m(self)\u001b[0m\n\u001b[1;32m    222\u001b[0m         \u001b[0;31m# TODO: add parallel evaluation of likelihoods\u001b[0m\u001b[0;34m\u001b[0m\u001b[0;34m\u001b[0m\u001b[0m\n\u001b[1;32m    223\u001b[0m         \u001b[0;32mfor\u001b[0m \u001b[0mdataset\u001b[0m \u001b[0;32min\u001b[0m \u001b[0mself\u001b[0m\u001b[0;34m:\u001b[0m\u001b[0;34m\u001b[0m\u001b[0;34m\u001b[0m\u001b[0m\n\u001b[0;32m--> 224\u001b[0;31m             \u001b[0mstat_sum\u001b[0m \u001b[0;34m+=\u001b[0m \u001b[0mdataset\u001b[0m\u001b[0;34m.\u001b[0m\u001b[0mstat_sum\u001b[0m\u001b[0;34m(\u001b[0m\u001b[0;34m)\u001b[0m\u001b[0;34m\u001b[0m\u001b[0;34m\u001b[0m\u001b[0m\n\u001b[0m\u001b[1;32m    225\u001b[0m         \u001b[0;32mreturn\u001b[0m \u001b[0mstat_sum\u001b[0m\u001b[0;34m\u001b[0m\u001b[0;34m\u001b[0m\u001b[0m\n\u001b[1;32m    226\u001b[0m \u001b[0;34m\u001b[0m\u001b[0m\n",
      "\u001b[0;32m~/opt/anaconda3/envs/gammapy-0.19/lib/python3.9/site-packages/gammapy/datasets/map.py\u001b[0m in \u001b[0;36mstat_sum\u001b[0;34m(self)\u001b[0m\n\u001b[1;32m    973\u001b[0m     \u001b[0;32mdef\u001b[0m \u001b[0mstat_sum\u001b[0m\u001b[0;34m(\u001b[0m\u001b[0mself\u001b[0m\u001b[0;34m)\u001b[0m\u001b[0;34m:\u001b[0m\u001b[0;34m\u001b[0m\u001b[0;34m\u001b[0m\u001b[0m\n\u001b[1;32m    974\u001b[0m         \u001b[0;34m\"\"\"Total likelihood given the current model parameters.\"\"\"\u001b[0m\u001b[0;34m\u001b[0m\u001b[0;34m\u001b[0m\u001b[0m\n\u001b[0;32m--> 975\u001b[0;31m         \u001b[0mcounts\u001b[0m\u001b[0;34m,\u001b[0m \u001b[0mnpred\u001b[0m \u001b[0;34m=\u001b[0m \u001b[0mself\u001b[0m\u001b[0;34m.\u001b[0m\u001b[0mcounts\u001b[0m\u001b[0;34m.\u001b[0m\u001b[0mdata\u001b[0m\u001b[0;34m.\u001b[0m\u001b[0mastype\u001b[0m\u001b[0;34m(\u001b[0m\u001b[0mfloat\u001b[0m\u001b[0;34m)\u001b[0m\u001b[0;34m,\u001b[0m \u001b[0mself\u001b[0m\u001b[0;34m.\u001b[0m\u001b[0mnpred\u001b[0m\u001b[0;34m(\u001b[0m\u001b[0;34m)\u001b[0m\u001b[0;34m.\u001b[0m\u001b[0mdata\u001b[0m\u001b[0;34m\u001b[0m\u001b[0;34m\u001b[0m\u001b[0m\n\u001b[0m\u001b[1;32m    976\u001b[0m \u001b[0;34m\u001b[0m\u001b[0m\n\u001b[1;32m    977\u001b[0m         \u001b[0;32mif\u001b[0m \u001b[0mself\u001b[0m\u001b[0;34m.\u001b[0m\u001b[0mmask\u001b[0m \u001b[0;32mis\u001b[0m \u001b[0;32mnot\u001b[0m \u001b[0;32mNone\u001b[0m\u001b[0;34m:\u001b[0m\u001b[0;34m\u001b[0m\u001b[0;34m\u001b[0m\u001b[0m\n",
      "\u001b[0;32m~/opt/anaconda3/envs/gammapy-0.19/lib/python3.9/site-packages/gammapy/datasets/map.py\u001b[0m in \u001b[0;36mnpred\u001b[0;34m(self)\u001b[0m\n\u001b[1;32m    390\u001b[0m             \u001b[0mTotal\u001b[0m \u001b[0mpredicted\u001b[0m \u001b[0mcounts\u001b[0m\u001b[0;34m\u001b[0m\u001b[0;34m\u001b[0m\u001b[0m\n\u001b[1;32m    391\u001b[0m         \"\"\"\n\u001b[0;32m--> 392\u001b[0;31m         \u001b[0mnpred_total\u001b[0m \u001b[0;34m=\u001b[0m \u001b[0mself\u001b[0m\u001b[0;34m.\u001b[0m\u001b[0mnpred_signal\u001b[0m\u001b[0;34m(\u001b[0m\u001b[0;34m)\u001b[0m\u001b[0;34m\u001b[0m\u001b[0;34m\u001b[0m\u001b[0m\n\u001b[0m\u001b[1;32m    393\u001b[0m \u001b[0;34m\u001b[0m\u001b[0m\n\u001b[1;32m    394\u001b[0m         \u001b[0;32mif\u001b[0m \u001b[0mself\u001b[0m\u001b[0;34m.\u001b[0m\u001b[0mbackground\u001b[0m\u001b[0;34m:\u001b[0m\u001b[0;34m\u001b[0m\u001b[0;34m\u001b[0m\u001b[0m\n",
      "\u001b[0;32m~/opt/anaconda3/envs/gammapy-0.19/lib/python3.9/site-packages/gammapy/datasets/map.py\u001b[0m in \u001b[0;36mnpred_signal\u001b[0;34m(self, model_name)\u001b[0m\n\u001b[1;32m    466\u001b[0m \u001b[0;34m\u001b[0m\u001b[0m\n\u001b[1;32m    467\u001b[0m             \u001b[0;32mif\u001b[0m \u001b[0mevaluator\u001b[0m\u001b[0;34m.\u001b[0m\u001b[0mcontributes\u001b[0m\u001b[0;34m:\u001b[0m\u001b[0;34m\u001b[0m\u001b[0;34m\u001b[0m\u001b[0m\n\u001b[0;32m--> 468\u001b[0;31m                 \u001b[0mnpred\u001b[0m \u001b[0;34m=\u001b[0m \u001b[0mevaluator\u001b[0m\u001b[0;34m.\u001b[0m\u001b[0mcompute_npred\u001b[0m\u001b[0;34m(\u001b[0m\u001b[0;34m)\u001b[0m\u001b[0;34m\u001b[0m\u001b[0;34m\u001b[0m\u001b[0m\n\u001b[0m\u001b[1;32m    469\u001b[0m                 \u001b[0mnpred_total\u001b[0m\u001b[0;34m.\u001b[0m\u001b[0mstack\u001b[0m\u001b[0;34m(\u001b[0m\u001b[0mnpred\u001b[0m\u001b[0;34m)\u001b[0m\u001b[0;34m\u001b[0m\u001b[0;34m\u001b[0m\u001b[0m\n\u001b[1;32m    470\u001b[0m \u001b[0;34m\u001b[0m\u001b[0m\n",
      "\u001b[0;32m~/opt/anaconda3/envs/gammapy-0.19/lib/python3.9/site-packages/gammapy/datasets/evaluator.py\u001b[0m in \u001b[0;36mcompute_npred\u001b[0;34m(self)\u001b[0m\n\u001b[1;32m    384\u001b[0m             \u001b[0;32mdel\u001b[0m \u001b[0mself\u001b[0m\u001b[0;34m.\u001b[0m\u001b[0m_compute_npred\u001b[0m\u001b[0;34m\u001b[0m\u001b[0;34m\u001b[0m\u001b[0m\n\u001b[1;32m    385\u001b[0m \u001b[0;34m\u001b[0m\u001b[0m\n\u001b[0;32m--> 386\u001b[0;31m         \u001b[0;32mreturn\u001b[0m \u001b[0mself\u001b[0m\u001b[0;34m.\u001b[0m\u001b[0m_compute_npred\u001b[0m\u001b[0;34m\u001b[0m\u001b[0;34m\u001b[0m\u001b[0m\n\u001b[0m\u001b[1;32m    387\u001b[0m \u001b[0;34m\u001b[0m\u001b[0m\n\u001b[1;32m    388\u001b[0m     \u001b[0;34m@\u001b[0m\u001b[0mproperty\u001b[0m\u001b[0;34m\u001b[0m\u001b[0;34m\u001b[0m\u001b[0m\n",
      "\u001b[0;32m~/opt/anaconda3/envs/gammapy-0.19/lib/python3.9/site-packages/astropy/utils/decorators.py\u001b[0m in \u001b[0;36m__get__\u001b[0;34m(self, obj, owner)\u001b[0m\n\u001b[1;32m    765\u001b[0m                     \u001b[0mval\u001b[0m \u001b[0;34m=\u001b[0m \u001b[0mobj_dict\u001b[0m\u001b[0;34m.\u001b[0m\u001b[0mget\u001b[0m\u001b[0;34m(\u001b[0m\u001b[0mself\u001b[0m\u001b[0;34m.\u001b[0m\u001b[0m_key\u001b[0m\u001b[0;34m,\u001b[0m \u001b[0m_NotFound\u001b[0m\u001b[0;34m)\u001b[0m\u001b[0;34m\u001b[0m\u001b[0;34m\u001b[0m\u001b[0m\n\u001b[1;32m    766\u001b[0m                     \u001b[0;32mif\u001b[0m \u001b[0mval\u001b[0m \u001b[0;32mis\u001b[0m \u001b[0m_NotFound\u001b[0m\u001b[0;34m:\u001b[0m\u001b[0;34m\u001b[0m\u001b[0;34m\u001b[0m\u001b[0m\n\u001b[0;32m--> 767\u001b[0;31m                         \u001b[0mval\u001b[0m \u001b[0;34m=\u001b[0m \u001b[0mself\u001b[0m\u001b[0;34m.\u001b[0m\u001b[0mfget\u001b[0m\u001b[0;34m(\u001b[0m\u001b[0mobj\u001b[0m\u001b[0;34m)\u001b[0m\u001b[0;34m\u001b[0m\u001b[0;34m\u001b[0m\u001b[0m\n\u001b[0m\u001b[1;32m    768\u001b[0m                         \u001b[0mobj_dict\u001b[0m\u001b[0;34m[\u001b[0m\u001b[0mself\u001b[0m\u001b[0;34m.\u001b[0m\u001b[0m_key\u001b[0m\u001b[0;34m]\u001b[0m \u001b[0;34m=\u001b[0m \u001b[0mval\u001b[0m\u001b[0;34m\u001b[0m\u001b[0;34m\u001b[0m\u001b[0m\n\u001b[1;32m    769\u001b[0m             \u001b[0;32mreturn\u001b[0m \u001b[0mval\u001b[0m\u001b[0;34m\u001b[0m\u001b[0;34m\u001b[0m\u001b[0m\n",
      "\u001b[0;32m~/opt/anaconda3/envs/gammapy-0.19/lib/python3.9/site-packages/gammapy/datasets/evaluator.py\u001b[0m in \u001b[0;36m_compute_npred\u001b[0;34m(self)\u001b[0m\n\u001b[1;32m    360\u001b[0m             \u001b[0;32mif\u001b[0m \u001b[0;32mnot\u001b[0m \u001b[0mself\u001b[0m\u001b[0;34m.\u001b[0m\u001b[0mparameter_norm_only_changed\u001b[0m\u001b[0;34m:\u001b[0m\u001b[0;34m\u001b[0m\u001b[0;34m\u001b[0m\u001b[0m\n\u001b[1;32m    361\u001b[0m                 \u001b[0;32mfor\u001b[0m \u001b[0mmethod\u001b[0m \u001b[0;32min\u001b[0m \u001b[0mself\u001b[0m\u001b[0;34m.\u001b[0m\u001b[0mmethods_sequence\u001b[0m\u001b[0;34m:\u001b[0m\u001b[0;34m\u001b[0m\u001b[0;34m\u001b[0m\u001b[0m\n\u001b[0;32m--> 362\u001b[0;31m                     \u001b[0mvalues\u001b[0m \u001b[0;34m=\u001b[0m \u001b[0mmethod\u001b[0m\u001b[0;34m(\u001b[0m\u001b[0mself\u001b[0m\u001b[0;34m.\u001b[0m\u001b[0m_computation_cache\u001b[0m\u001b[0;34m)\u001b[0m\u001b[0;34m\u001b[0m\u001b[0;34m\u001b[0m\u001b[0m\n\u001b[0m\u001b[1;32m    363\u001b[0m                     \u001b[0mself\u001b[0m\u001b[0;34m.\u001b[0m\u001b[0m_computation_cache\u001b[0m \u001b[0;34m=\u001b[0m \u001b[0mvalues\u001b[0m\u001b[0;34m\u001b[0m\u001b[0;34m\u001b[0m\u001b[0m\n\u001b[1;32m    364\u001b[0m                 \u001b[0mnpred\u001b[0m \u001b[0;34m=\u001b[0m \u001b[0mself\u001b[0m\u001b[0;34m.\u001b[0m\u001b[0m_computation_cache\u001b[0m\u001b[0;34m\u001b[0m\u001b[0;34m\u001b[0m\u001b[0m\n",
      "\u001b[0;32m~/opt/anaconda3/envs/gammapy-0.19/lib/python3.9/site-packages/gammapy/datasets/evaluator.py\u001b[0m in \u001b[0;36mcompute_flux_psf_convolved\u001b[0;34m(self, *arg)\u001b[0m\n\u001b[1;32m    248\u001b[0m                 \u001b[0mvalue\u001b[0m \u001b[0;34m=\u001b[0m \u001b[0mvalue\u001b[0m \u001b[0;34m*\u001b[0m \u001b[0mself\u001b[0m\u001b[0;34m.\u001b[0m\u001b[0mpsf_containment\u001b[0m\u001b[0;34m\u001b[0m\u001b[0;34m\u001b[0m\u001b[0m\n\u001b[1;32m    249\u001b[0m             \u001b[0;32melse\u001b[0m\u001b[0;34m:\u001b[0m\u001b[0;34m\u001b[0m\u001b[0;34m\u001b[0m\u001b[0m\n\u001b[0;32m--> 250\u001b[0;31m                 \u001b[0mvalue\u001b[0m \u001b[0;34m=\u001b[0m \u001b[0mvalue\u001b[0m \u001b[0;34m*\u001b[0m \u001b[0mself\u001b[0m\u001b[0;34m.\u001b[0m\u001b[0mcompute_flux_spatial\u001b[0m\u001b[0;34m(\u001b[0m\u001b[0;34m)\u001b[0m\u001b[0;34m\u001b[0m\u001b[0;34m\u001b[0m\u001b[0m\n\u001b[0m\u001b[1;32m    251\u001b[0m \u001b[0;34m\u001b[0m\u001b[0m\n\u001b[1;32m    252\u001b[0m         \u001b[0;32mif\u001b[0m \u001b[0mself\u001b[0m\u001b[0;34m.\u001b[0m\u001b[0mmodel\u001b[0m\u001b[0;34m.\u001b[0m\u001b[0mtemporal_model\u001b[0m\u001b[0;34m:\u001b[0m\u001b[0;34m\u001b[0m\u001b[0;34m\u001b[0m\u001b[0m\n",
      "\u001b[0;32m~/opt/anaconda3/envs/gammapy-0.19/lib/python3.9/site-packages/gammapy/datasets/evaluator.py\u001b[0m in \u001b[0;36mcompute_flux_spatial\u001b[0;34m(self)\u001b[0m\n\u001b[1;32m    259\u001b[0m         \u001b[0;32mif\u001b[0m \u001b[0mself\u001b[0m\u001b[0;34m.\u001b[0m\u001b[0mparameters_spatial_changed\u001b[0m\u001b[0;34m(\u001b[0m\u001b[0;34m)\u001b[0m \u001b[0;32mor\u001b[0m \u001b[0;32mnot\u001b[0m \u001b[0mself\u001b[0m\u001b[0;34m.\u001b[0m\u001b[0muse_cache\u001b[0m\u001b[0;34m:\u001b[0m\u001b[0;34m\u001b[0m\u001b[0;34m\u001b[0m\u001b[0m\n\u001b[1;32m    260\u001b[0m             \u001b[0;32mdel\u001b[0m \u001b[0mself\u001b[0m\u001b[0;34m.\u001b[0m\u001b[0m_compute_flux_spatial\u001b[0m\u001b[0;34m\u001b[0m\u001b[0;34m\u001b[0m\u001b[0m\n\u001b[0;32m--> 261\u001b[0;31m         \u001b[0;32mreturn\u001b[0m \u001b[0mself\u001b[0m\u001b[0;34m.\u001b[0m\u001b[0m_compute_flux_spatial\u001b[0m\u001b[0;34m\u001b[0m\u001b[0;34m\u001b[0m\u001b[0m\n\u001b[0m\u001b[1;32m    262\u001b[0m \u001b[0;34m\u001b[0m\u001b[0m\n\u001b[1;32m    263\u001b[0m     \u001b[0;34m@\u001b[0m\u001b[0mlazyproperty\u001b[0m\u001b[0;34m\u001b[0m\u001b[0;34m\u001b[0m\u001b[0m\n",
      "\u001b[0;32m~/opt/anaconda3/envs/gammapy-0.19/lib/python3.9/site-packages/astropy/utils/decorators.py\u001b[0m in \u001b[0;36m__get__\u001b[0;34m(self, obj, owner)\u001b[0m\n\u001b[1;32m    765\u001b[0m                     \u001b[0mval\u001b[0m \u001b[0;34m=\u001b[0m \u001b[0mobj_dict\u001b[0m\u001b[0;34m.\u001b[0m\u001b[0mget\u001b[0m\u001b[0;34m(\u001b[0m\u001b[0mself\u001b[0m\u001b[0;34m.\u001b[0m\u001b[0m_key\u001b[0m\u001b[0;34m,\u001b[0m \u001b[0m_NotFound\u001b[0m\u001b[0;34m)\u001b[0m\u001b[0;34m\u001b[0m\u001b[0;34m\u001b[0m\u001b[0m\n\u001b[1;32m    766\u001b[0m                     \u001b[0;32mif\u001b[0m \u001b[0mval\u001b[0m \u001b[0;32mis\u001b[0m \u001b[0m_NotFound\u001b[0m\u001b[0;34m:\u001b[0m\u001b[0;34m\u001b[0m\u001b[0;34m\u001b[0m\u001b[0m\n\u001b[0;32m--> 767\u001b[0;31m                         \u001b[0mval\u001b[0m \u001b[0;34m=\u001b[0m \u001b[0mself\u001b[0m\u001b[0;34m.\u001b[0m\u001b[0mfget\u001b[0m\u001b[0;34m(\u001b[0m\u001b[0mobj\u001b[0m\u001b[0;34m)\u001b[0m\u001b[0;34m\u001b[0m\u001b[0;34m\u001b[0m\u001b[0m\n\u001b[0m\u001b[1;32m    768\u001b[0m                         \u001b[0mobj_dict\u001b[0m\u001b[0;34m[\u001b[0m\u001b[0mself\u001b[0m\u001b[0;34m.\u001b[0m\u001b[0m_key\u001b[0m\u001b[0;34m]\u001b[0m \u001b[0;34m=\u001b[0m \u001b[0mval\u001b[0m\u001b[0;34m\u001b[0m\u001b[0;34m\u001b[0m\u001b[0m\n\u001b[1;32m    769\u001b[0m             \u001b[0;32mreturn\u001b[0m \u001b[0mval\u001b[0m\u001b[0;34m\u001b[0m\u001b[0;34m\u001b[0m\u001b[0m\n",
      "\u001b[0;32m~/opt/anaconda3/envs/gammapy-0.19/lib/python3.9/site-packages/gammapy/datasets/evaluator.py\u001b[0m in \u001b[0;36m_compute_flux_spatial\u001b[0;34m(self)\u001b[0m\n\u001b[1;32m    289\u001b[0m             \u001b[0mvalue\u001b[0m \u001b[0;34m=\u001b[0m \u001b[0;34m(\u001b[0m\u001b[0mvalues\u001b[0m\u001b[0;34m.\u001b[0m\u001b[0mquantity\u001b[0m \u001b[0;34m*\u001b[0m \u001b[0mweights\u001b[0m\u001b[0;34m)\u001b[0m\u001b[0;34m.\u001b[0m\u001b[0msum\u001b[0m\u001b[0;34m(\u001b[0m\u001b[0maxis\u001b[0m\u001b[0;34m=\u001b[0m\u001b[0;34m(\u001b[0m\u001b[0;36m1\u001b[0m\u001b[0;34m,\u001b[0m \u001b[0;36m2\u001b[0m\u001b[0;34m)\u001b[0m\u001b[0;34m,\u001b[0m \u001b[0mkeepdims\u001b[0m\u001b[0;34m=\u001b[0m\u001b[0;32mTrue\u001b[0m\u001b[0;34m)\u001b[0m\u001b[0;34m\u001b[0m\u001b[0;34m\u001b[0m\u001b[0m\n\u001b[1;32m    290\u001b[0m         \u001b[0;32melse\u001b[0m\u001b[0;34m:\u001b[0m\u001b[0;34m\u001b[0m\u001b[0;34m\u001b[0m\u001b[0m\n\u001b[0;32m--> 291\u001b[0;31m             \u001b[0mvalue\u001b[0m \u001b[0;34m=\u001b[0m \u001b[0mself\u001b[0m\u001b[0;34m.\u001b[0m\u001b[0m_compute_flux_spatial_geom\u001b[0m\u001b[0;34m(\u001b[0m\u001b[0mself\u001b[0m\u001b[0;34m.\u001b[0m\u001b[0mgeom\u001b[0m\u001b[0;34m)\u001b[0m\u001b[0;34m\u001b[0m\u001b[0;34m\u001b[0m\u001b[0m\n\u001b[0m\u001b[1;32m    292\u001b[0m \u001b[0;34m\u001b[0m\u001b[0m\n\u001b[1;32m    293\u001b[0m         \u001b[0;32mreturn\u001b[0m \u001b[0mvalue\u001b[0m\u001b[0;34m\u001b[0m\u001b[0;34m\u001b[0m\u001b[0m\n",
      "\u001b[0;32m~/opt/anaconda3/envs/gammapy-0.19/lib/python3.9/site-packages/gammapy/datasets/evaluator.py\u001b[0m in \u001b[0;36m_compute_flux_spatial_geom\u001b[0;34m(self, geom)\u001b[0m\n\u001b[1;32m    297\u001b[0m         \u001b[0;32mif\u001b[0m \u001b[0;32mnot\u001b[0m \u001b[0mself\u001b[0m\u001b[0;34m.\u001b[0m\u001b[0mmodel\u001b[0m\u001b[0;34m.\u001b[0m\u001b[0mspatial_model\u001b[0m\u001b[0;34m.\u001b[0m\u001b[0mis_energy_dependent\u001b[0m\u001b[0;34m:\u001b[0m\u001b[0;34m\u001b[0m\u001b[0;34m\u001b[0m\u001b[0m\n\u001b[1;32m    298\u001b[0m             \u001b[0mgeom\u001b[0m \u001b[0;34m=\u001b[0m \u001b[0mgeom\u001b[0m\u001b[0;34m.\u001b[0m\u001b[0mto_image\u001b[0m\u001b[0;34m(\u001b[0m\u001b[0;34m)\u001b[0m\u001b[0;34m\u001b[0m\u001b[0;34m\u001b[0m\u001b[0m\n\u001b[0;32m--> 299\u001b[0;31m         \u001b[0mvalue\u001b[0m \u001b[0;34m=\u001b[0m \u001b[0mself\u001b[0m\u001b[0;34m.\u001b[0m\u001b[0mmodel\u001b[0m\u001b[0;34m.\u001b[0m\u001b[0mspatial_model\u001b[0m\u001b[0;34m.\u001b[0m\u001b[0mintegrate_geom\u001b[0m\u001b[0;34m(\u001b[0m\u001b[0mgeom\u001b[0m\u001b[0;34m)\u001b[0m\u001b[0;34m\u001b[0m\u001b[0;34m\u001b[0m\u001b[0m\n\u001b[0m\u001b[1;32m    300\u001b[0m \u001b[0;34m\u001b[0m\u001b[0m\n\u001b[1;32m    301\u001b[0m         \u001b[0;32mif\u001b[0m \u001b[0mself\u001b[0m\u001b[0;34m.\u001b[0m\u001b[0mpsf\u001b[0m \u001b[0;32mand\u001b[0m \u001b[0mself\u001b[0m\u001b[0;34m.\u001b[0m\u001b[0mmodel\u001b[0m\u001b[0;34m.\u001b[0m\u001b[0mapply_irf\u001b[0m\u001b[0;34m[\u001b[0m\u001b[0;34m\"psf\"\u001b[0m\u001b[0;34m]\u001b[0m\u001b[0;34m:\u001b[0m\u001b[0;34m\u001b[0m\u001b[0;34m\u001b[0m\u001b[0m\n",
      "\u001b[0;32m~/opt/anaconda3/envs/gammapy-0.19/lib/python3.9/site-packages/gammapy/modeling/models/spatial.py\u001b[0m in \u001b[0;36mintegrate_geom\u001b[0;34m(self, geom, oversampling_factor)\u001b[0m\n\u001b[1;32m    230\u001b[0m             \u001b[0;31m# Finally stack result\u001b[0m\u001b[0;34m\u001b[0m\u001b[0;34m\u001b[0m\u001b[0m\n\u001b[1;32m    231\u001b[0m             \u001b[0mresult\u001b[0m\u001b[0;34m.\u001b[0m\u001b[0munit\u001b[0m \u001b[0;34m=\u001b[0m \u001b[0mintegrated\u001b[0m\u001b[0;34m.\u001b[0m\u001b[0munit\u001b[0m\u001b[0;34m\u001b[0m\u001b[0;34m\u001b[0m\u001b[0m\n\u001b[0;32m--> 232\u001b[0;31m             \u001b[0mresult\u001b[0m\u001b[0;34m.\u001b[0m\u001b[0mstack\u001b[0m\u001b[0;34m(\u001b[0m\u001b[0mintegrated\u001b[0m\u001b[0;34m)\u001b[0m\u001b[0;34m\u001b[0m\u001b[0;34m\u001b[0m\u001b[0m\n\u001b[0m\u001b[1;32m    233\u001b[0m         \u001b[0;32melse\u001b[0m\u001b[0;34m:\u001b[0m\u001b[0;34m\u001b[0m\u001b[0;34m\u001b[0m\u001b[0m\n\u001b[1;32m    234\u001b[0m             \u001b[0mvalues\u001b[0m \u001b[0;34m=\u001b[0m \u001b[0mself\u001b[0m\u001b[0;34m.\u001b[0m\u001b[0mevaluate_geom\u001b[0m\u001b[0;34m(\u001b[0m\u001b[0mwcs_geom\u001b[0m\u001b[0;34m)\u001b[0m\u001b[0;34m\u001b[0m\u001b[0;34m\u001b[0m\u001b[0m\n",
      "\u001b[0;32m~/opt/anaconda3/envs/gammapy-0.19/lib/python3.9/site-packages/gammapy/maps/wcs/ndmap.py\u001b[0m in \u001b[0;36mstack\u001b[0;34m(self, other, weights, nan_to_num)\u001b[0m\n\u001b[1;32m    828\u001b[0m             \u001b[0mcutout_slices\u001b[0m \u001b[0;34m=\u001b[0m \u001b[0mEllipsis\u001b[0m\u001b[0;34m,\u001b[0m \u001b[0mslices\u001b[0m\u001b[0;34m[\u001b[0m\u001b[0;36m0\u001b[0m\u001b[0;34m]\u001b[0m\u001b[0;34m,\u001b[0m \u001b[0mslices\u001b[0m\u001b[0;34m[\u001b[0m\u001b[0;36m1\u001b[0m\u001b[0;34m]\u001b[0m\u001b[0;34m\u001b[0m\u001b[0;34m\u001b[0m\u001b[0m\n\u001b[1;32m    829\u001b[0m         \u001b[0;32melse\u001b[0m\u001b[0;34m:\u001b[0m\u001b[0;34m\u001b[0m\u001b[0;34m\u001b[0m\u001b[0m\n\u001b[0;32m--> 830\u001b[0;31m             raise ValueError(\n\u001b[0m\u001b[1;32m    831\u001b[0m                 \u001b[0;34m\"Can only stack equivalent maps or cutout of the same map.\"\u001b[0m\u001b[0;34m\u001b[0m\u001b[0;34m\u001b[0m\u001b[0m\n\u001b[1;32m    832\u001b[0m             )\n",
      "\u001b[0;31mValueError\u001b[0m: Can only stack equivalent maps or cutout of the same map."
     ]
    }
   ],
   "source": [
    "table = Table(names=[\"dataset\", \n",
    "                     \"TS_Gauss\", \"ind_g\", \"ind_e_g\", \n",
    "                     \"amp_g\", \"amp_e_g\", \"sig_g\", \"sig_e_g\",\n",
    "                     \"TS_Disk\", \"ind_d\", \"ind_e_d\", \n",
    "                     \"amp_d\", \"amp_e_d\", \"r_d\", \"r_e_d\"],\n",
    "             )\n",
    "for i, ds in enumerate(datasets):\n",
    "    TS_Gauss, res_gauss = fit_gauss(ds)\n",
    "    TS_Disk, res_disk = fit_disk(ds)\n",
    "    row = [i, \n",
    "           TS_Gauss, \n",
    "           res_gauss.parameters[\"index\"].value,\n",
    "           res_gauss.parameters[\"index\"].error,\n",
    "           res_gauss.parameters[\"amplitude\"].value,\n",
    "           res_gauss.parameters[\"amplitude\"].error,\n",
    "           res_gauss.parameters[\"sigma\"].value,\n",
    "           res_gauss.parameters[\"sigma\"].error,\n",
    "           TS_Disk, \n",
    "           res_disk.parameters[\"index\"].value,\n",
    "           res_disk.parameters[\"index\"].error,\n",
    "           res_disk.parameters[\"amplitude\"].value,\n",
    "           res_disk.parameters[\"amplitude\"].error,\n",
    "           res_disk.parameters[\"r_0\"].value,\n",
    "           res_disk.parameters[\"r_0\"].error,\n",
    "          ]\n",
    "    print(row)\n",
    "    table.add_row(row)"
   ]
  },
  {
   "cell_type": "code",
   "execution_count": 87,
   "id": "d3ed4980-0410-4af9-a616-6811eff75fb9",
   "metadata": {},
   "outputs": [
    {
     "data": {
      "text/html": [
       "<div><i>Table length=15</i>\n",
       "<table id=\"table6111495456\" class=\"table-striped table-bordered table-condensed\">\n",
       "<thead><tr><th>dataset</th><th>TS_Gauss</th><th>ind_g</th><th>ind_e_g</th><th>amp_g</th><th>amp_e_g</th><th>sig_g</th><th>sig_e_g</th><th>TS_Disk</th><th>ind_d</th><th>ind_e_d</th><th>amp_d</th><th>amp_e_d</th><th>r_d</th><th>r_e_d</th></tr></thead>\n",
       "<thead><tr><th>float64</th><th>float64</th><th>float64</th><th>float64</th><th>float64</th><th>float64</th><th>float64</th><th>float64</th><th>float64</th><th>float64</th><th>float64</th><th>float64</th><th>float64</th><th>float64</th><th>float64</th></tr></thead>\n",
       "<tr><td>0.0</td><td>50.455287383287214</td><td>2.8165482213370003</td><td>0.25967092149166066</td><td>1.8463580626051605e-12</td><td>6.253110254891994e-13</td><td>0.47118567956443635</td><td>0.1123773952736626</td><td>41.26165930344723</td><td>2.8176694686985826</td><td>0.2727169638156008</td><td>1.3325543284518559e-12</td><td>1.9251005001887756e-13</td><td>0.7558200745450253</td><td>0.007572912016049582</td></tr>\n",
       "<tr><td>1.0</td><td>9.82975863077445</td><td>3.0511398982174534</td><td>0.9001675010191345</td><td>9.457146757476956e-13</td><td>5.124168527849853e-13</td><td>0.5366193512768449</td><td>0.12728992162928662</td><td>14.105402956658509</td><td>3.105030128751378</td><td>0.995597079934754</td><td>9.077662506870466e-13</td><td>4.1110501388009936e-13</td><td>0.8591322802395243</td><td>0.04111594563822877</td></tr>\n",
       "<tr><td>2.0</td><td>26.64678887539776</td><td>3.6765290051845243</td><td>0.5952779142626188</td><td>1.0500016279926812e-12</td><td>4.748567628321594e-13</td><td>0.4797608170664014</td><td>0.09313193536508069</td><td>28.188054230471607</td><td>3.81307062981603</td><td>4.443334206238961</td><td>7.672720291913438e-13</td><td>1.9275168449103545e-12</td><td>0.7417159155155817</td><td>0.028412185326366135</td></tr>\n",
       "<tr><td>3.0</td><td>18.85544411931187</td><td>3.390177479453394</td><td>3.9628478187531844</td><td>1.2309832016848361e-12</td><td>3.388029954517795e-12</td><td>0.5571945727088425</td><td>0.35750098238559036</td><td>20.086708992661443</td><td>3.040675980505241</td><td>0.7401890427647548</td><td>9.431357645274222e-13</td><td>3.0641392699613474e-13</td><td>0.7864368901477767</td><td>0.02407785342183579</td></tr>\n",
       "<tr><td>4.0</td><td>35.03215935261687</td><td>3.662730449043271</td><td>0.5712903429624584</td><td>9.286418045743118e-13</td><td>3.870391293254082e-13</td><td>0.38727393590863</td><td>0.0722089330414939</td><td>32.34798190364381</td><td>3.5654137850131162</td><td>0.5194775152239951</td><td>9.34363166513155e-13</td><td>2.621897514388164e-13</td><td>0.7455774898082876</td><td>0.02257058405166737</td></tr>\n",
       "<tr><td>5.0</td><td>13.524289727618452</td><td>2.229699592675017</td><td>0.4873976631895105</td><td>3.204914220774762e-11</td><td>9.751016205824014e-11</td><td>0.963820145151885</td><td>0.9295720753773351</td><td>11.607063005445525</td><td>2.8066789556858875</td><td>0.7061702329055145</td><td>6.85361356610491e-13</td><td>2.2808430877137034e-13</td><td>0.7206283936000626</td><td>0.020250948532684783</td></tr>\n",
       "<tr><td>6.0</td><td>14.650460798293352</td><td>3.5541547679882477</td><td>5.46985402478093</td><td>1.1266475443778796e-12</td><td>2.695225813044496e-12</td><td>0.5957711563968007</td><td>0.16455986415810736</td><td>15.704543832223862</td><td>2.306422231720164</td><td>0.32469482998108207</td><td>9.45937223169947e-13</td><td>2.4847130725004657e-13</td><td>0.8576224634577749</td><td>0.02110123434524515</td></tr>\n",
       "<tr><td>7.0</td><td>24.659016863792203</td><td>3.457244800969593</td><td>0.6570890374313801</td><td>1.246654412403073e-12</td><td>6.236825579995172e-13</td><td>0.5210800945999637</td><td>0.11852830491549937</td><td>30.851232832763344</td><td>3.4600917367367168</td><td>0.9270830561480943</td><td>1.3677543699312256e-12</td><td>6.531023334751222e-13</td><td>0.970608237913507</td><td>0.017377831851729267</td></tr>\n",
       "<tr><td>8.0</td><td>26.79241261439165</td><td>2.6252444699943687</td><td>0.3481021853590327</td><td>1.2702943889916639e-12</td><td>3.9761022958655795e-13</td><td>0.447236537697783</td><td>0.08867427904776758</td><td>25.059144485509023</td><td>2.443353094752271</td><td>0.29237817858699455</td><td>1.165020116994112e-12</td><td>2.376445890479885e-13</td><td>0.8317104465439631</td><td>0.010828623600422867</td></tr>\n",
       "<tr><td>9.0</td><td>12.474603948707227</td><td>2.8146309552115283</td><td>0.5599198591577217</td><td>6.996276844434254e-13</td><td>3.418132333351233e-13</td><td>0.37978625381339387</td><td>0.13207199653189464</td><td>11.032257893530186</td><td>2.9322235558733816</td><td>0.7537957840842109</td><td>7.091471369612927e-13</td><td>2.2167639686408094e-13</td><td>0.7848306017134058</td><td>0.19291501217233317</td></tr>\n",
       "<tr><td>10.0</td><td>23.68471684033284</td><td>3.8137183077866834</td><td>0.6735473063203751</td><td>1.0549627891252584e-12</td><td>5.156346405094013e-13</td><td>0.5256100141218565</td><td>0.10060680451381573</td><td>24.01616907166317</td><td>3.6859702345576406</td><td>0.5961419117017833</td><td>6.964234786452234e-13</td><td>2.069875139078082e-13</td><td>0.6938194477839446</td><td>0.045229218835665774</td></tr>\n",
       "<tr><td>11.0</td><td>17.36493597034132</td><td>3.2855046315682177</td><td>0.45667583520401633</td><td>8.780119918269201e-13</td><td>2.0361029827839026e-13</td><td>0.4328979559828064</td><td>0.08545272547266367</td><td>15.718930446426384</td><td>2.7870862859043353</td><td>0.3617804355516086</td><td>8.131498554206878e-13</td><td>2.127804245846879e-13</td><td>0.7446358630532524</td><td>0.02953236866608177</td></tr>\n",
       "<tr><td>12.0</td><td>41.747591941209976</td><td>2.6937641594634103</td><td>0.3297598434985597</td><td>2.875458284024997e-12</td><td>9.697556953700842e-13</td><td>0.670555604869014</td><td>0.12147115142930401</td><td>40.49854050099384</td><td>2.465483149946116</td><td>0.22047822995683705</td><td>1.4521004872126643e-12</td><td>1.9885399435021282e-13</td><td>0.8142404500767477</td><td>0.00630282402959928</td></tr>\n",
       "<tr><td>13.0</td><td>33.87469576479634</td><td>3.3993260636801996</td><td>0.5937196295586363</td><td>9.29069903367962e-13</td><td>3.630611324537729e-13</td><td>0.36077108185658147</td><td>0.07042409402720415</td><td>34.28746334702009</td><td>3.200270301494635</td><td>0.31336795282588276</td><td>8.303846733024333e-13</td><td>1.7096053248757593e-13</td><td>0.5836317244003741</td><td>0.012010542217338284</td></tr>\n",
       "<tr><td>14.0</td><td>24.837366235791706</td><td>2.7547358959190853</td><td>0.3480086021031847</td><td>1.2969600791926685e-12</td><td>4.727366415133313e-13</td><td>0.45691395664871826</td><td>0.11353959783865196</td><td>20.850927937601227</td><td>3.130638011333316</td><td>0.39638355539140885</td><td>7.715300507778335e-13</td><td>1.7059326072309475e-13</td><td>0.6658791306287859</td><td>0.012138413637689463</td></tr>\n",
       "</table></div>"
      ],
      "text/plain": [
       "<Table length=15>\n",
       "dataset      TS_Gauss      ...        r_d                r_e_d        \n",
       "float64      float64       ...      float64             float64       \n",
       "------- ------------------ ... ------------------ --------------------\n",
       "    0.0 50.455287383287214 ... 0.7558200745450253 0.007572912016049582\n",
       "    1.0   9.82975863077445 ... 0.8591322802395243  0.04111594563822877\n",
       "    2.0  26.64678887539776 ... 0.7417159155155817 0.028412185326366135\n",
       "    3.0  18.85544411931187 ... 0.7864368901477767  0.02407785342183579\n",
       "    4.0  35.03215935261687 ... 0.7455774898082876  0.02257058405166737\n",
       "    5.0 13.524289727618452 ... 0.7206283936000626 0.020250948532684783\n",
       "    6.0 14.650460798293352 ... 0.8576224634577749  0.02110123434524515\n",
       "    7.0 24.659016863792203 ...  0.970608237913507 0.017377831851729267\n",
       "    8.0  26.79241261439165 ... 0.8317104465439631 0.010828623600422867\n",
       "    9.0 12.474603948707227 ... 0.7848306017134058  0.19291501217233317\n",
       "   10.0  23.68471684033284 ... 0.6938194477839446 0.045229218835665774\n",
       "   11.0  17.36493597034132 ... 0.7446358630532524  0.02953236866608177\n",
       "   12.0 41.747591941209976 ... 0.8142404500767477  0.00630282402959928\n",
       "   13.0  33.87469576479634 ... 0.5836317244003741 0.012010542217338284\n",
       "   14.0 24.837366235791706 ... 0.6658791306287859 0.012138413637689463"
      ]
     },
     "execution_count": 87,
     "metadata": {},
     "output_type": "execute_result"
    }
   ],
   "source": [
    "table"
   ]
  },
  {
   "cell_type": "code",
   "execution_count": 89,
   "id": "55d8e2eb-b15c-4f0b-8e0b-d83704f0947a",
   "metadata": {},
   "outputs": [
    {
     "data": {
      "text/plain": [
       "[<matplotlib.lines.Line2D at 0x16bd61670>]"
      ]
     },
     "execution_count": 89,
     "metadata": {},
     "output_type": "execute_result"
    },
    {
     "data": {
      "image/png": "[encoded data removed]",
      "text/plain": [
       "<Figure size 432x288 with 1 Axes>"
      ]
     },
     "metadata": {
      "needs_background": "light"
     },
     "output_type": "display_data"
    }
   ],
   "source": [
    "plt.plot(table[\"TS_Gauss\"], table[\"TS_Disk\"], \"o\")\n",
    "plt.xlabel(\"TS_Gauss\")\n",
    "plt.ylabel(\"TS_Disk\")\n",
    "plt.plot(table[\"TS_Gauss\"], table[\"TS_Gauss\"], ls=\"--\")"
   ]
  },
  {
   "cell_type": "code",
   "execution_count": 93,
   "id": "911f86e1-689a-403c-9323-0697dfcc20fb",
   "metadata": {},
   "outputs": [
    {
     "data": {
      "text/plain": [
       "Text(0, 0.5, 'disk r0')"
      ]
     },
     "execution_count": 93,
     "metadata": {},
     "output_type": "execute_result"
    },
    {
     "data": {
      "image/png": "[encoded data removed]",
      "text/plain": [
       "<Figure size 432x288 with 1 Axes>"
      ]
     },
     "metadata": {
      "needs_background": "light"
     },
     "output_type": "display_data"
    }
   ],
   "source": [
    "plt.errorbar(table[\"sig_g\"], table[\"r_d\"], \n",
    "            yerr=table[\"r_e_d\"], xerr=table[\"sig_e_g\"],\n",
    "            fmt=\"o\")\n",
    "plt.xlabel(\"gaussian sigma\")\n",
    "plt.ylabel(\"disk r0\")"
   ]
  },
  {
   "cell_type": "code",
   "execution_count": 94,
   "id": "bd1b9d33-3743-497c-80dd-3d4ab3b53a13",
   "metadata": {},
   "outputs": [
    {
     "data": {
      "text/plain": [
       "Text(0, 0.5, 'index')"
      ]
     },
     "execution_count": 94,
     "metadata": {},
     "output_type": "execute_result"
    },
    {
     "data": {
      "image/png": "[encoded data removed]",
      "text/plain": [
       "<Figure size 432x288 with 1 Axes>"
      ]
     },
     "metadata": {
      "needs_background": "light"
     },
     "output_type": "display_data"
    }
   ],
   "source": [
    "plt.errorbar(table[\"amp_g\"], table[\"ind_g\"], \n",
    "             xerr=table[\"amp_e_g\"], yerr=table[\"ind_e_g\"], fmt=\"*\",\n",
    "            label=\"gauss\")\n",
    "plt.errorbar(table[\"amp_d\"], table[\"ind_d\"], \n",
    "             xerr=table[\"amp_e_d\"], yerr=table[\"ind_e_d\"], fmt=\"o\", \n",
    "            label=\"disk\")\n",
    "plt.ylim((2.5,5))\n",
    "plt.xlim((0.5e-12, 2e-12))\n",
    "\n",
    "plt.plot([spectral_model.parameters[\"amplitude\"].value], \n",
    "         [spectral_model.parameters[\"index\"].value],\n",
    "         \"o\", color=\"red\")\n",
    "plt.legend()\n",
    "\n",
    "plt.xlabel(\"amplitude\")\n",
    "plt.ylabel(\"index\")"
   ]
  },
  {
   "cell_type": "code",
   "execution_count": null,
   "id": "347a0cd3-4145-45e0-b186-a6deca276b01",
   "metadata": {},
   "outputs": [],
   "source": []
  },
  {
   "cell_type": "code",
   "execution_count": null,
   "id": "d481f27c-12bd-48cf-a62c-5bf853e94310",
   "metadata": {},
   "outputs": [],
   "source": []
  },
  {
   "cell_type": "code",
   "execution_count": null,
   "id": "839b727f-adca-4a6b-826b-0cc58b61527c",
   "metadata": {},
   "outputs": [],
   "source": []
  }
 ],
 "metadata": {
  "kernelspec": {
   "display_name": "Python 3 (ipykernel)",
   "language": "python",
   "name": "python3"
  },
  "language_info": {
   "codemirror_mode": {
    "name": "ipython",
    "version": 3
   },
   "file_extension": ".py",
   "mimetype": "text/x-python",
   "name": "python",
   "nbconvert_exporter": "python",
   "pygments_lexer": "ipython3",
   "version": "3.9.9"
  }
 },
 "nbformat": 4,
 "nbformat_minor": 5
}
